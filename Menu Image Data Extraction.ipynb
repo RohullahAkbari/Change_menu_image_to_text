{
 "cells": [
  {
   "cell_type": "code",
   "execution_count": 1,
   "id": "708bbbb8",
   "metadata": {},
   "outputs": [
    {
     "name": "stdout",
     "output_type": "stream",
     "text": [
      "Collecting ultralyticsNote: you may need to restart the kernel to use updated packages.\n",
      "\n",
      "  Downloading ultralytics-8.0.122-py3-none-any.whl (611 kB)\n",
      "                                              0.0/612.0 kB ? eta -:--:--\n",
      "     -                                       30.7/612.0 kB 1.4 MB/s eta 0:00:01\n",
      "     -                                       30.7/612.0 kB 1.4 MB/s eta 0:00:01\n",
      "     -                                       30.7/612.0 kB 1.4 MB/s eta 0:00:01\n",
      "     ---                                   61.4/612.0 kB 233.8 kB/s eta 0:00:03\n",
      "     ---                                   61.4/612.0 kB 233.8 kB/s eta 0:00:03\n",
      "     ---                                   61.4/612.0 kB 233.8 kB/s eta 0:00:03\n",
      "     -----                                 92.2/612.0 kB 238.1 kB/s eta 0:00:03\n",
      "     ------                               112.6/612.0 kB 273.1 kB/s eta 0:00:02\n",
      "     ------                               112.6/612.0 kB 273.1 kB/s eta 0:00:02\n",
      "     ------                               112.6/612.0 kB 273.1 kB/s eta 0:00:02\n",
      "     -------                              122.9/612.0 kB 200.4 kB/s eta 0:00:03\n",
      "     -------                              122.9/612.0 kB 200.4 kB/s eta 0:00:03\n",
      "     -------                              122.9/612.0 kB 200.4 kB/s eta 0:00:03\n",
      "     -------                              122.9/612.0 kB 200.4 kB/s eta 0:00:03\n",
      "     --------                             143.4/612.0 kB 181.4 kB/s eta 0:00:03\n",
      "     --------                             143.4/612.0 kB 181.4 kB/s eta 0:00:03\n",
      "     --------                             143.4/612.0 kB 181.4 kB/s eta 0:00:03\n",
      "     --------                             143.4/612.0 kB 181.4 kB/s eta 0:00:03\n",
      "     ---------                            163.8/612.0 kB 166.6 kB/s eta 0:00:03\n",
      "     ---------                            163.8/612.0 kB 166.6 kB/s eta 0:00:03\n",
      "     ---------                            163.8/612.0 kB 166.6 kB/s eta 0:00:03\n",
      "     ---------                            163.8/612.0 kB 166.6 kB/s eta 0:00:03\n",
      "     ---------                            163.8/612.0 kB 166.6 kB/s eta 0:00:03\n",
      "     ---------                            163.8/612.0 kB 166.6 kB/s eta 0:00:03\n",
      "     ---------                            163.8/612.0 kB 166.6 kB/s eta 0:00:03\n",
      "     ----------                           174.1/612.0 kB 131.1 kB/s eta 0:00:04\n",
      "     ----------                           174.1/612.0 kB 131.1 kB/s eta 0:00:04\n",
      "     ----------                           174.1/612.0 kB 131.1 kB/s eta 0:00:04\n",
      "     ----------                           174.1/612.0 kB 131.1 kB/s eta 0:00:04\n",
      "     ----------                           174.1/612.0 kB 131.1 kB/s eta 0:00:04\n",
      "     ----------                           174.1/612.0 kB 131.1 kB/s eta 0:00:04\n",
      "     -----------                          194.6/612.0 kB 120.4 kB/s eta 0:00:04\n",
      "     -----------                          194.6/612.0 kB 120.4 kB/s eta 0:00:04\n",
      "     -----------                          194.6/612.0 kB 120.4 kB/s eta 0:00:04\n",
      "     -----------                          194.6/612.0 kB 120.4 kB/s eta 0:00:04\n",
      "     -----------                          194.6/612.0 kB 120.4 kB/s eta 0:00:04\n",
      "     -----------                          194.6/612.0 kB 120.4 kB/s eta 0:00:04\n",
      "     -----------                          194.6/612.0 kB 120.4 kB/s eta 0:00:04\n",
      "     -----------                          194.6/612.0 kB 120.4 kB/s eta 0:00:04\n",
      "     -----------                          194.6/612.0 kB 120.4 kB/s eta 0:00:04\n",
      "     -----------                          194.6/612.0 kB 120.4 kB/s eta 0:00:04\n",
      "     -----------                          194.6/612.0 kB 120.4 kB/s eta 0:00:04\n",
      "     -----------                          194.6/612.0 kB 120.4 kB/s eta 0:00:04\n",
      "     -----------                          194.6/612.0 kB 120.4 kB/s eta 0:00:04\n",
      "     -----------                          194.6/612.0 kB 120.4 kB/s eta 0:00:04\n",
      "     ------------                          204.8/612.0 kB 89.0 kB/s eta 0:00:05\n",
      "     ------------                          204.8/612.0 kB 89.0 kB/s eta 0:00:05\n",
      "     ------------                          204.8/612.0 kB 89.0 kB/s eta 0:00:05\n",
      "     ------------                          204.8/612.0 kB 89.0 kB/s eta 0:00:05\n",
      "     ------------                          204.8/612.0 kB 89.0 kB/s eta 0:00:05\n",
      "     ------------                          204.8/612.0 kB 89.0 kB/s eta 0:00:05\n",
      "     ------------                          204.8/612.0 kB 89.0 kB/s eta 0:00:05\n",
      "     ------------                          204.8/612.0 kB 89.0 kB/s eta 0:00:05\n",
      "     ------------                          204.8/612.0 kB 89.0 kB/s eta 0:00:05\n",
      "     ------------                          204.8/612.0 kB 89.0 kB/s eta 0:00:05\n",
      "     -------------                         225.3/612.0 kB 81.0 kB/s eta 0:00:05\n",
      "     -------------                         225.3/612.0 kB 81.0 kB/s eta 0:00:05\n",
      "     -------------                         225.3/612.0 kB 81.0 kB/s eta 0:00:05\n",
      "     -------------                         225.3/612.0 kB 81.0 kB/s eta 0:00:05\n",
      "     -------------                         225.3/612.0 kB 81.0 kB/s eta 0:00:05\n",
      "     -------------                         225.3/612.0 kB 81.0 kB/s eta 0:00:05\n",
      "     --------------                        245.8/612.0 kB 78.5 kB/s eta 0:00:05\n",
      "     --------------                        245.8/612.0 kB 78.5 kB/s eta 0:00:05\n",
      "     --------------                        245.8/612.0 kB 78.5 kB/s eta 0:00:05\n",
      "     --------------                        245.8/612.0 kB 78.5 kB/s eta 0:00:05\n",
      "     --------------                        245.8/612.0 kB 78.5 kB/s eta 0:00:05\n",
      "     --------------                        245.8/612.0 kB 78.5 kB/s eta 0:00:05\n",
      "     --------------                        245.8/612.0 kB 78.5 kB/s eta 0:00:05\n",
      "     --------------                        245.8/612.0 kB 78.5 kB/s eta 0:00:05\n",
      "     --------------                        245.8/612.0 kB 78.5 kB/s eta 0:00:05\n",
      "     ---------------                       256.0/612.0 kB 68.7 kB/s eta 0:00:06\n",
      "     ---------------                       256.0/612.0 kB 68.7 kB/s eta 0:00:06\n",
      "     ---------------                       256.0/612.0 kB 68.7 kB/s eta 0:00:06\n",
      "     ---------------                       256.0/612.0 kB 68.7 kB/s eta 0:00:06\n",
      "     ---------------                       256.0/612.0 kB 68.7 kB/s eta 0:00:06\n",
      "     ---------------                       256.0/612.0 kB 68.7 kB/s eta 0:00:06\n",
      "     ---------------                       256.0/612.0 kB 68.7 kB/s eta 0:00:06\n",
      "     ---------------                       256.0/612.0 kB 68.7 kB/s eta 0:00:06\n",
      "     ----------------                      276.5/612.0 kB 66.3 kB/s eta 0:00:06\n",
      "     ----------------                      276.5/612.0 kB 66.3 kB/s eta 0:00:06\n",
      "     ----------------                      276.5/612.0 kB 66.3 kB/s eta 0:00:06\n",
      "     ----------------                      276.5/612.0 kB 66.3 kB/s eta 0:00:06\n",
      "     ----------------                      276.5/612.0 kB 66.3 kB/s eta 0:00:06\n",
      "     ----------------                      276.5/612.0 kB 66.3 kB/s eta 0:00:06\n",
      "     ----------------                      276.5/612.0 kB 66.3 kB/s eta 0:00:06\n",
      "     ----------------                      276.5/612.0 kB 66.3 kB/s eta 0:00:06\n",
      "     ----------------                      276.5/612.0 kB 66.3 kB/s eta 0:00:06\n",
      "     ----------------                      276.5/612.0 kB 66.3 kB/s eta 0:00:06\n",
      "     ----------------                      276.5/612.0 kB 66.3 kB/s eta 0:00:06\n",
      "     ----------------                      276.5/612.0 kB 66.3 kB/s eta 0:00:06\n",
      "     ----------------                      276.5/612.0 kB 66.3 kB/s eta 0:00:06\n",
      "     ----------------                      276.5/612.0 kB 66.3 kB/s eta 0:00:06\n",
      "     ----------------                      276.5/612.0 kB 66.3 kB/s eta 0:00:06\n",
      "     ----------------                      276.5/612.0 kB 66.3 kB/s eta 0:00:06\n",
      "     -----------------                     286.7/612.0 kB 57.3 kB/s eta 0:00:06\n",
      "     -----------------                     286.7/612.0 kB 57.3 kB/s eta 0:00:06\n",
      "     -----------------                     286.7/612.0 kB 57.3 kB/s eta 0:00:06\n",
      "     -----------------                     286.7/612.0 kB 57.3 kB/s eta 0:00:06\n",
      "     -----------------                     286.7/612.0 kB 57.3 kB/s eta 0:00:06\n",
      "     -----------------                     286.7/612.0 kB 57.3 kB/s eta 0:00:06\n",
      "     -----------------                     286.7/612.0 kB 57.3 kB/s eta 0:00:06\n",
      "     -----------------                     286.7/612.0 kB 57.3 kB/s eta 0:00:06\n",
      "     -----------------                     286.7/612.0 kB 57.3 kB/s eta 0:00:06\n",
      "     -----------------                     286.7/612.0 kB 57.3 kB/s eta 0:00:06\n",
      "     -----------------                     286.7/612.0 kB 57.3 kB/s eta 0:00:06\n",
      "     -----------------                     286.7/612.0 kB 57.3 kB/s eta 0:00:06\n",
      "     ------------------                    307.2/612.0 kB 53.5 kB/s eta 0:00:06\n",
      "     ------------------                    307.2/612.0 kB 53.5 kB/s eta 0:00:06\n",
      "     ------------------                    307.2/612.0 kB 53.5 kB/s eta 0:00:06\n",
      "     ------------------                    307.2/612.0 kB 53.5 kB/s eta 0:00:06\n",
      "     ------------------                    307.2/612.0 kB 53.5 kB/s eta 0:00:06\n",
      "     ------------------                    307.2/612.0 kB 53.5 kB/s eta 0:00:06\n",
      "     ------------------                    307.2/612.0 kB 53.5 kB/s eta 0:00:06\n",
      "     ------------------                    307.2/612.0 kB 53.5 kB/s eta 0:00:06\n",
      "     ------------------                    307.2/612.0 kB 53.5 kB/s eta 0:00:06\n",
      "     ------------------                    307.2/612.0 kB 53.5 kB/s eta 0:00:06\n",
      "     ------------------                    307.2/612.0 kB 53.5 kB/s eta 0:00:06\n",
      "     ------------------                    307.2/612.0 kB 53.5 kB/s eta 0:00:06\n",
      "     -------------------                   327.7/612.0 kB 51.4 kB/s eta 0:00:06\n",
      "     -------------------                   327.7/612.0 kB 51.4 kB/s eta 0:00:06\n",
      "     -------------------                   327.7/612.0 kB 51.4 kB/s eta 0:00:06\n",
      "     -------------------                   327.7/612.0 kB 51.4 kB/s eta 0:00:06\n",
      "     -------------------                   327.7/612.0 kB 51.4 kB/s eta 0:00:06\n",
      "     -------------------                   327.7/612.0 kB 51.4 kB/s eta 0:00:06\n",
      "     -------------------                   327.7/612.0 kB 51.4 kB/s eta 0:00:06\n",
      "     -------------------                   327.7/612.0 kB 51.4 kB/s eta 0:00:06\n",
      "     -------------------                   327.7/612.0 kB 51.4 kB/s eta 0:00:06\n",
      "     -------------------                   327.7/612.0 kB 51.4 kB/s eta 0:00:06\n",
      "     -------------------                   327.7/612.0 kB 51.4 kB/s eta 0:00:06\n",
      "     -------------------                   327.7/612.0 kB 51.4 kB/s eta 0:00:06\n",
      "     -------------------                   327.7/612.0 kB 51.4 kB/s eta 0:00:06\n",
      "     --------------------                  337.9/612.0 kB 48.0 kB/s eta 0:00:06\n",
      "     --------------------                  337.9/612.0 kB 48.0 kB/s eta 0:00:06\n",
      "     --------------------                  337.9/612.0 kB 48.0 kB/s eta 0:00:06\n",
      "     --------------------                  337.9/612.0 kB 48.0 kB/s eta 0:00:06\n",
      "     --------------------                  337.9/612.0 kB 48.0 kB/s eta 0:00:06\n",
      "     --------------------                  337.9/612.0 kB 48.0 kB/s eta 0:00:06\n",
      "     --------------------                  337.9/612.0 kB 48.0 kB/s eta 0:00:06\n",
      "     --------------------                  337.9/612.0 kB 48.0 kB/s eta 0:00:06\n",
      "     --------------------                  337.9/612.0 kB 48.0 kB/s eta 0:00:06\n",
      "     ---------------------                 358.4/612.0 kB 47.5 kB/s eta 0:00:06\n",
      "     ---------------------                 358.4/612.0 kB 47.5 kB/s eta 0:00:06\n",
      "     ---------------------                 358.4/612.0 kB 47.5 kB/s eta 0:00:06\n",
      "     ---------------------                 358.4/612.0 kB 47.5 kB/s eta 0:00:06\n",
      "     ---------------------                 358.4/612.0 kB 47.5 kB/s eta 0:00:06\n",
      "     ---------------------                 358.4/612.0 kB 47.5 kB/s eta 0:00:06\n",
      "     ---------------------                 358.4/612.0 kB 47.5 kB/s eta 0:00:06\n",
      "     ---------------------                 358.4/612.0 kB 47.5 kB/s eta 0:00:06\n",
      "     ---------------------                 358.4/612.0 kB 47.5 kB/s eta 0:00:06\n",
      "     ---------------------                 358.4/612.0 kB 47.5 kB/s eta 0:00:06\n",
      "     ---------------------                 358.4/612.0 kB 47.5 kB/s eta 0:00:06\n",
      "     ---------------------                 358.4/612.0 kB 47.5 kB/s eta 0:00:06\n",
      "     ---------------------                 358.4/612.0 kB 47.5 kB/s eta 0:00:06\n",
      "     ---------------------                 358.4/612.0 kB 47.5 kB/s eta 0:00:06\n",
      "     ---------------------                 358.4/612.0 kB 47.5 kB/s eta 0:00:06\n",
      "     ---------------------                 358.4/612.0 kB 47.5 kB/s eta 0:00:06\n",
      "     ----------------------                368.6/612.0 kB 44.0 kB/s eta 0:00:06\n",
      "     ----------------------                368.6/612.0 kB 44.0 kB/s eta 0:00:06\n",
      "     ----------------------                368.6/612.0 kB 44.0 kB/s eta 0:00:06\n",
      "     ----------------------                368.6/612.0 kB 44.0 kB/s eta 0:00:06\n",
      "     ----------------------                368.6/612.0 kB 44.0 kB/s eta 0:00:06\n",
      "     ----------------------                368.6/612.0 kB 44.0 kB/s eta 0:00:06\n",
      "     ----------------------                368.6/612.0 kB 44.0 kB/s eta 0:00:06\n",
      "     -----------------------               389.1/612.0 kB 44.5 kB/s eta 0:00:06\n",
      "     -----------------------               389.1/612.0 kB 44.5 kB/s eta 0:00:06\n",
      "     -----------------------               389.1/612.0 kB 44.5 kB/s eta 0:00:06\n",
      "     -----------------------               389.1/612.0 kB 44.5 kB/s eta 0:00:06\n",
      "     -----------------------               389.1/612.0 kB 44.5 kB/s eta 0:00:06\n",
      "     -----------------------               389.1/612.0 kB 44.5 kB/s eta 0:00:06\n",
      "     -----------------------               389.1/612.0 kB 44.5 kB/s eta 0:00:06\n",
      "     -----------------------               389.1/612.0 kB 44.5 kB/s eta 0:00:06\n",
      "     -----------------------               389.1/612.0 kB 44.5 kB/s eta 0:00:06\n",
      "     -----------------------               389.1/612.0 kB 44.5 kB/s eta 0:00:06\n",
      "     ------------------------              409.6/612.0 kB 44.3 kB/s eta 0:00:05\n",
      "     ------------------------              409.6/612.0 kB 44.3 kB/s eta 0:00:05\n",
      "     ------------------------              409.6/612.0 kB 44.3 kB/s eta 0:00:05\n",
      "     ------------------------              409.6/612.0 kB 44.3 kB/s eta 0:00:05\n",
      "     ------------------------              409.6/612.0 kB 44.3 kB/s eta 0:00:05\n",
      "     ------------------------              409.6/612.0 kB 44.3 kB/s eta 0:00:05\n",
      "     ------------------------              409.6/612.0 kB 44.3 kB/s eta 0:00:05\n",
      "     ------------------------              409.6/612.0 kB 44.3 kB/s eta 0:00:05\n",
      "     -------------------------             419.8/612.0 kB 43.5 kB/s eta 0:00:05\n",
      "     -------------------------             419.8/612.0 kB 43.5 kB/s eta 0:00:05\n",
      "     -------------------------             419.8/612.0 kB 43.5 kB/s eta 0:00:05\n",
      "     -------------------------             419.8/612.0 kB 43.5 kB/s eta 0:00:05\n",
      "     -------------------------             419.8/612.0 kB 43.5 kB/s eta 0:00:05\n",
      "     -------------------------             419.8/612.0 kB 43.5 kB/s eta 0:00:05\n",
      "     --------------------------            440.3/612.0 kB 44.3 kB/s eta 0:00:04\n",
      "     --------------------------            440.3/612.0 kB 44.3 kB/s eta 0:00:04\n",
      "     --------------------------            440.3/612.0 kB 44.3 kB/s eta 0:00:04\n",
      "     --------------------------            440.3/612.0 kB 44.3 kB/s eta 0:00:04\n",
      "     --------------------------            440.3/612.0 kB 44.3 kB/s eta 0:00:04\n",
      "     ---------------------------           450.6/612.0 kB 44.0 kB/s eta 0:00:04\n",
      "     ---------------------------           450.6/612.0 kB 44.0 kB/s eta 0:00:04\n",
      "     ---------------------------           450.6/612.0 kB 44.0 kB/s eta 0:00:04\n",
      "     ---------------------------           450.6/612.0 kB 44.0 kB/s eta 0:00:04\n",
      "     ---------------------------           450.6/612.0 kB 44.0 kB/s eta 0:00:04\n",
      "     ----------------------------          471.0/612.0 kB 44.4 kB/s eta 0:00:04\n",
      "     ----------------------------          471.0/612.0 kB 44.4 kB/s eta 0:00:04\n",
      "     ----------------------------          471.0/612.0 kB 44.4 kB/s eta 0:00:04\n",
      "     ----------------------------          471.0/612.0 kB 44.4 kB/s eta 0:00:04\n",
      "     ----------------------------          471.0/612.0 kB 44.4 kB/s eta 0:00:04\n",
      "     ----------------------------          471.0/612.0 kB 44.4 kB/s eta 0:00:04\n",
      "     ----------------------------          471.0/612.0 kB 44.4 kB/s eta 0:00:04\n",
      "     ----------------------------          471.0/612.0 kB 44.4 kB/s eta 0:00:04\n",
      "     ----------------------------          471.0/612.0 kB 44.4 kB/s eta 0:00:04\n",
      "     -----------------------------         491.5/612.0 kB 44.4 kB/s eta 0:00:03\n",
      "     -----------------------------         491.5/612.0 kB 44.4 kB/s eta 0:00:03\n",
      "     -----------------------------         491.5/612.0 kB 44.4 kB/s eta 0:00:03\n",
      "     -----------------------------         491.5/612.0 kB 44.4 kB/s eta 0:00:03\n",
      "     -----------------------------         491.5/612.0 kB 44.4 kB/s eta 0:00:03\n",
      "     -----------------------------         491.5/612.0 kB 44.4 kB/s eta 0:00:03\n",
      "     -----------------------------         491.5/612.0 kB 44.4 kB/s eta 0:00:03\n",
      "     -----------------------------         491.5/612.0 kB 44.4 kB/s eta 0:00:03\n",
      "     ------------------------------        501.8/612.0 kB 43.8 kB/s eta 0:00:03\n",
      "     ------------------------------        501.8/612.0 kB 43.8 kB/s eta 0:00:03\n",
      "     ------------------------------        501.8/612.0 kB 43.8 kB/s eta 0:00:03\n",
      "     ------------------------------        501.8/612.0 kB 43.8 kB/s eta 0:00:03\n",
      "     ------------------------------        501.8/612.0 kB 43.8 kB/s eta 0:00:03\n",
      "     ------------------------------        501.8/612.0 kB 43.8 kB/s eta 0:00:03\n",
      "     ------------------------------        501.8/612.0 kB 43.8 kB/s eta 0:00:03\n",
      "     ------------------------------        501.8/612.0 kB 43.8 kB/s eta 0:00:03\n",
      "     -------------------------------       522.2/612.0 kB 43.5 kB/s eta 0:00:03\n",
      "     -------------------------------       522.2/612.0 kB 43.5 kB/s eta 0:00:03\n",
      "     -------------------------------       522.2/612.0 kB 43.5 kB/s eta 0:00:03\n",
      "     -------------------------------       522.2/612.0 kB 43.5 kB/s eta 0:00:03\n",
      "     -------------------------------       522.2/612.0 kB 43.5 kB/s eta 0:00:03\n",
      "     -------------------------------       522.2/612.0 kB 43.5 kB/s eta 0:00:03\n",
      "     -------------------------------       522.2/612.0 kB 43.5 kB/s eta 0:00:03\n",
      "     -------------------------------       522.2/612.0 kB 43.5 kB/s eta 0:00:03\n",
      "     --------------------------------      532.5/612.0 kB 42.9 kB/s eta 0:00:02\n",
      "     --------------------------------      532.5/612.0 kB 42.9 kB/s eta 0:00:02\n",
      "     --------------------------------      532.5/612.0 kB 42.9 kB/s eta 0:00:02\n",
      "     --------------------------------      532.5/612.0 kB 42.9 kB/s eta 0:00:02\n",
      "     --------------------------------      532.5/612.0 kB 42.9 kB/s eta 0:00:02\n",
      "     ---------------------------------     553.0/612.0 kB 43.6 kB/s eta 0:00:02\n",
      "     ---------------------------------     553.0/612.0 kB 43.6 kB/s eta 0:00:02\n",
      "     ---------------------------------     553.0/612.0 kB 43.6 kB/s eta 0:00:02\n",
      "     ---------------------------------     553.0/612.0 kB 43.6 kB/s eta 0:00:02\n",
      "     ---------------------------------     553.0/612.0 kB 43.6 kB/s eta 0:00:02\n",
      "     ---------------------------------     553.0/612.0 kB 43.6 kB/s eta 0:00:02\n",
      "     ---------------------------------     553.0/612.0 kB 43.6 kB/s eta 0:00:02\n",
      "     ---------------------------------     553.0/612.0 kB 43.6 kB/s eta 0:00:02\n",
      "     ----------------------------------    573.4/612.0 kB 43.6 kB/s eta 0:00:01\n",
      "     ----------------------------------    573.4/612.0 kB 43.6 kB/s eta 0:00:01\n",
      "     ----------------------------------    573.4/612.0 kB 43.6 kB/s eta 0:00:01\n",
      "     -----------------------------------   583.7/612.0 kB 43.7 kB/s eta 0:00:01\n",
      "     -----------------------------------   583.7/612.0 kB 43.7 kB/s eta 0:00:01\n",
      "     -----------------------------------   583.7/612.0 kB 43.7 kB/s eta 0:00:01\n",
      "     -----------------------------------   583.7/612.0 kB 43.7 kB/s eta 0:00:01\n",
      "     -----------------------------------   583.7/612.0 kB 43.7 kB/s eta 0:00:01\n",
      "     -----------------------------------   583.7/612.0 kB 43.7 kB/s eta 0:00:01\n",
      "     -----------------------------------   583.7/612.0 kB 43.7 kB/s eta 0:00:01\n",
      "     -----------------------------------   593.9/612.0 kB 43.3 kB/s eta 0:00:01\n",
      "     -----------------------------------   593.9/612.0 kB 43.3 kB/s eta 0:00:01\n",
      "     -----------------------------------   593.9/612.0 kB 43.3 kB/s eta 0:00:01\n",
      "     -----------------------------------   593.9/612.0 kB 43.3 kB/s eta 0:00:01\n",
      "     ------------------------------------  604.2/612.0 kB 43.3 kB/s eta 0:00:01\n",
      "     ------------------------------------- 612.0/612.0 kB 43.8 kB/s eta 0:00:00\n",
      "Requirement already satisfied: matplotlib>=3.2.2 in c:\\users\\niazi wall\\appdata\\local\\programs\\python\\python38\\lib\\site-packages (from ultralytics) (3.7.1)\n",
      "Requirement already satisfied: opencv-python>=4.6.0 in c:\\users\\niazi wall\\appdata\\local\\programs\\python\\python38\\lib\\site-packages (from ultralytics) (4.7.0.72)\n",
      "Requirement already satisfied: Pillow>=7.1.2 in c:\\users\\niazi wall\\appdata\\local\\programs\\python\\python38\\lib\\site-packages (from ultralytics) (9.5.0)\n",
      "Requirement already satisfied: PyYAML>=5.3.1 in c:\\users\\niazi wall\\appdata\\local\\programs\\python\\python38\\lib\\site-packages (from ultralytics) (6.0)\n",
      "Requirement already satisfied: requests>=2.23.0 in c:\\users\\niazi wall\\appdata\\local\\programs\\python\\python38\\lib\\site-packages (from ultralytics) (2.31.0)\n",
      "Requirement already satisfied: scipy>=1.4.1 in c:\\users\\niazi wall\\appdata\\local\\programs\\python\\python38\\lib\\site-packages (from ultralytics) (1.10.1)\n",
      "Requirement already satisfied: torch>=1.7.0 in c:\\users\\niazi wall\\appdata\\local\\programs\\python\\python38\\lib\\site-packages (from ultralytics) (2.0.1)\n",
      "Collecting torchvision>=0.8.1 (from ultralytics)\n",
      "  Using cached torchvision-0.15.2-cp38-cp38-win_amd64.whl (1.2 MB)\n",
      "Requirement already satisfied: tqdm>=4.64.0 in c:\\users\\niazi wall\\appdata\\local\\programs\\python\\python38\\lib\\site-packages (from ultralytics) (4.65.0)\n",
      "Requirement already satisfied: pandas>=1.1.4 in c:\\users\\niazi wall\\appdata\\local\\programs\\python\\python38\\lib\\site-packages (from ultralytics) (2.0.1)\n",
      "Requirement already satisfied: seaborn>=0.11.0 in c:\\users\\niazi wall\\appdata\\local\\programs\\python\\python38\\lib\\site-packages (from ultralytics) (0.12.2)\n",
      "Requirement already satisfied: psutil in c:\\users\\niazi wall\\appdata\\roaming\\python\\python38\\site-packages (from ultralytics) (5.9.5)\n",
      "Requirement already satisfied: contourpy>=1.0.1 in c:\\users\\niazi wall\\appdata\\local\\programs\\python\\python38\\lib\\site-packages (from matplotlib>=3.2.2->ultralytics) (1.0.7)\n",
      "Requirement already satisfied: cycler>=0.10 in c:\\users\\niazi wall\\appdata\\local\\programs\\python\\python38\\lib\\site-packages (from matplotlib>=3.2.2->ultralytics) (0.11.0)\n",
      "Requirement already satisfied: fonttools>=4.22.0 in c:\\users\\niazi wall\\appdata\\local\\programs\\python\\python38\\lib\\site-packages (from matplotlib>=3.2.2->ultralytics) (4.39.4)\n",
      "Requirement already satisfied: kiwisolver>=1.0.1 in c:\\users\\niazi wall\\appdata\\local\\programs\\python\\python38\\lib\\site-packages (from matplotlib>=3.2.2->ultralytics) (1.4.4)\n",
      "Requirement already satisfied: numpy>=1.20 in c:\\users\\niazi wall\\appdata\\local\\programs\\python\\python38\\lib\\site-packages (from matplotlib>=3.2.2->ultralytics) (1.23.5)\n",
      "Requirement already satisfied: packaging>=20.0 in c:\\users\\niazi wall\\appdata\\roaming\\python\\python38\\site-packages (from matplotlib>=3.2.2->ultralytics) (23.1)\n",
      "Requirement already satisfied: pyparsing>=2.3.1 in c:\\users\\niazi wall\\appdata\\local\\programs\\python\\python38\\lib\\site-packages (from matplotlib>=3.2.2->ultralytics) (3.0.9)\n",
      "Requirement already satisfied: python-dateutil>=2.7 in c:\\users\\niazi wall\\appdata\\roaming\\python\\python38\\site-packages (from matplotlib>=3.2.2->ultralytics) (2.8.2)\n",
      "Requirement already satisfied: importlib-resources>=3.2.0 in c:\\users\\niazi wall\\appdata\\local\\programs\\python\\python38\\lib\\site-packages (from matplotlib>=3.2.2->ultralytics) (5.12.0)\n",
      "Requirement already satisfied: pytz>=2020.1 in c:\\users\\niazi wall\\appdata\\local\\programs\\python\\python38\\lib\\site-packages (from pandas>=1.1.4->ultralytics) (2023.3)\n",
      "Requirement already satisfied: tzdata>=2022.1 in c:\\users\\niazi wall\\appdata\\local\\programs\\python\\python38\\lib\\site-packages (from pandas>=1.1.4->ultralytics) (2023.3)\n",
      "Requirement already satisfied: charset-normalizer<4,>=2 in c:\\users\\niazi wall\\appdata\\local\\programs\\python\\python38\\lib\\site-packages (from requests>=2.23.0->ultralytics) (3.1.0)\n",
      "Requirement already satisfied: idna<4,>=2.5 in c:\\users\\niazi wall\\appdata\\local\\programs\\python\\python38\\lib\\site-packages (from requests>=2.23.0->ultralytics) (3.4)\n",
      "Requirement already satisfied: urllib3<3,>=1.21.1 in c:\\users\\niazi wall\\appdata\\local\\programs\\python\\python38\\lib\\site-packages (from requests>=2.23.0->ultralytics) (1.26.16)\n",
      "Requirement already satisfied: certifi>=2017.4.17 in c:\\users\\niazi wall\\appdata\\local\\programs\\python\\python38\\lib\\site-packages (from requests>=2.23.0->ultralytics) (2023.5.7)\n",
      "Requirement already satisfied: filelock in c:\\users\\niazi wall\\appdata\\local\\programs\\python\\python38\\lib\\site-packages (from torch>=1.7.0->ultralytics) (3.12.0)\n",
      "Requirement already satisfied: typing-extensions in c:\\users\\niazi wall\\appdata\\roaming\\python\\python38\\site-packages (from torch>=1.7.0->ultralytics) (4.6.1)\n",
      "Requirement already satisfied: sympy in c:\\users\\niazi wall\\appdata\\local\\programs\\python\\python38\\lib\\site-packages (from torch>=1.7.0->ultralytics) (1.12)\n",
      "Requirement already satisfied: networkx in c:\\users\\niazi wall\\appdata\\local\\programs\\python\\python38\\lib\\site-packages (from torch>=1.7.0->ultralytics) (3.1)\n",
      "Requirement already satisfied: jinja2 in c:\\users\\niazi wall\\appdata\\local\\programs\\python\\python38\\lib\\site-packages (from torch>=1.7.0->ultralytics) (3.1.2)\n",
      "Requirement already satisfied: colorama in c:\\users\\niazi wall\\appdata\\roaming\\python\\python38\\site-packages (from tqdm>=4.64.0->ultralytics) (0.4.6)\n",
      "Requirement already satisfied: zipp>=3.1.0 in c:\\users\\niazi wall\\appdata\\roaming\\python\\python38\\site-packages (from importlib-resources>=3.2.0->matplotlib>=3.2.2->ultralytics) (3.15.0)\n",
      "Requirement already satisfied: six>=1.5 in c:\\users\\niazi wall\\appdata\\roaming\\python\\python38\\site-packages (from python-dateutil>=2.7->matplotlib>=3.2.2->ultralytics) (1.16.0)\n",
      "Requirement already satisfied: MarkupSafe>=2.0 in c:\\users\\niazi wall\\appdata\\local\\programs\\python\\python38\\lib\\site-packages (from jinja2->torch>=1.7.0->ultralytics) (2.1.2)\n",
      "Requirement already satisfied: mpmath>=0.19 in c:\\users\\niazi wall\\appdata\\local\\programs\\python\\python38\\lib\\site-packages (from sympy->torch>=1.7.0->ultralytics) (1.3.0)\n",
      "Installing collected packages: torchvision, ultralytics\n",
      "  Attempting uninstall: torchvision\n",
      "    Found existing installation: torchvision 0.6.0+cpu\n",
      "    Uninstalling torchvision-0.6.0+cpu:\n",
      "      Successfully uninstalled torchvision-0.6.0+cpu\n",
      "Successfully installed torchvision-0.15.2 ultralytics-8.0.122\n"
     ]
    }
   ],
   "source": [
    "%pip install ultralytics\n"
   ]
  },
  {
   "cell_type": "code",
   "execution_count": 3,
   "id": "d315a0c4",
   "metadata": {
    "collapsed": true
   },
   "outputs": [
    {
     "name": "stdout",
     "output_type": "stream",
     "text": [
      "Requirement already satisfied: torch in c:\\users\\niazi wall\\appdata\\local\\programs\\python\\python38\\lib\\site-packages (2.0.1)\n",
      "Requirement already satisfied: filelock in c:\\users\\niazi wall\\appdata\\local\\programs\\python\\python38\\lib\\site-packages (from torch) (3.12.0)\n",
      "Requirement already satisfied: typing-extensions in c:\\users\\niazi wall\\appdata\\roaming\\python\\python38\\site-packages (from torch) (4.6.1)\n",
      "Requirement already satisfied: sympy in c:\\users\\niazi wall\\appdata\\local\\programs\\python\\python38\\lib\\site-packages (from torch) (1.12)\n",
      "Requirement already satisfied: networkx in c:\\users\\niazi wall\\appdata\\local\\programs\\python\\python38\\lib\\site-packages (from torch) (3.1)\n",
      "Requirement already satisfied: jinja2 in c:\\users\\niazi wall\\appdata\\local\\programs\\python\\python38\\lib\\site-packages (from torch) (3.1.2)\n",
      "Requirement already satisfied: MarkupSafe>=2.0 in c:\\users\\niazi wall\\appdata\\local\\programs\\python\\python38\\lib\\site-packages (from jinja2->torch) (2.1.2)\n",
      "Requirement already satisfied: mpmath>=0.19 in c:\\users\\niazi wall\\appdata\\local\\programs\\python\\python38\\lib\\site-packages (from sympy->torch) (1.3.0)\n"
     ]
    }
   ],
   "source": [
    "!pip3 install torch "
   ]
  },
  {
   "cell_type": "code",
   "execution_count": 2,
   "id": "d6c16331",
   "metadata": {},
   "outputs": [],
   "source": [
    "from PIL import Image\n",
    "import numpy as np\n",
    "import pandas as pd\n",
    "import os\n",
    "import matplotlib.pyplot as plt\n",
    "import torchvision\n",
    "from ultralytics import YOLO\n",
    "import easyocr"
   ]
  },
  {
   "cell_type": "markdown",
   "id": "08e0e45b",
   "metadata": {},
   "source": [
    "# Model1"
   ]
  },
  {
   "cell_type": "code",
   "execution_count": 10,
   "id": "ff48a1d9",
   "metadata": {},
   "outputs": [],
   "source": [
    "def mainSection(imagePath):\n",
    "    menu_image = Image.open(imagePath)\n",
    "    cropped_images = []\n",
    "    model_1 = YOLO(\"./models/model_1.pt\")\n",
    "    prediction = model_1.predict(menu_image, verbose=False)\n",
    "    for predicted_image in prediction:                    #model_1.predict(menu_image, verbose=False):\n",
    "        for section in predicted_image.boxes:\n",
    "            x_min, y_min, x_max, y_max, confidence, class_id = section.data[0].cpu().numpy()\n",
    "            cropped_image_section = menu_image.crop((x_min, y_min, x_max, y_max))\n",
    "            cropped_images.append(cropped_image_section)\n",
    "    return cropped_images"
   ]
  },
  {
   "cell_type": "markdown",
   "id": "9aea9759",
   "metadata": {},
   "source": [
    "# Model2 "
   ]
  },
  {
   "cell_type": "code",
   "execution_count": 11,
   "id": "5753f461",
   "metadata": {},
   "outputs": [],
   "source": [
    "def sectionAndDishes(imagePath):\n",
    "    menuSectionImage = Image.open(imagePath)\n",
    "    cropped_images = []\n",
    "    dataDict = {}\n",
    "    model_2 = YOLO(\"./models/model_2.pt\")\n",
    "    \n",
    "    prediction = model_2.predict(menuSectionImage, verbose=False)\n",
    "    section_name = []  # List to store section names\n",
    "    \n",
    "    for predicted_image in prediction:\n",
    "        for sectionComponent in predicted_image.boxes:\n",
    "            x_min, y_min, x_max, y_max, confidence, class_id = sectionComponent.data[0].cpu().numpy()\n",
    "            component = menuSectionImage.crop((x_min, y_min, x_max, y_max))\n",
    "            cropped_images.append(component)\n",
    "            \n",
    "            if int(class_id) == 2:\n",
    "                reader = easyocr.Reader(['en'])\n",
    "                section_name = reader.readtext(np.array(component))\n",
    "                section_name = [res[1] for res in section_name]\n",
    "                print(section_name)\n",
    "                section_name.append(section_name)\n",
    "    \n",
    "    dataDict['ImageList'] = cropped_images\n",
    "    dataDict['SectionNames'] =  str(section_name)\n",
    "    return dataDict\n"
   ]
  },
  {
   "cell_type": "markdown",
   "id": "bafd7d36",
   "metadata": {},
   "source": [
    "# Model3 correct"
   ]
  },
  {
   "cell_type": "code",
   "execution_count": 12,
   "id": "cf4ba8b9",
   "metadata": {},
   "outputs": [],
   "source": [
    "def dishesComponent(imagePath, section):\n",
    "    reader = easyocr.Reader(['en'])\n",
    "    prices = []\n",
    "    descs = []\n",
    "    titles = []\n",
    "    dishImage = Image.open(imagePath)\n",
    "    model_3 = YOLO(\"./models/model_3.pt\")\n",
    "    dishdict = {}\n",
    "    for predicted_image in model_3.predict(dishImage, verbose=False):\n",
    "        for dishComponent in predicted_image.boxes:\n",
    "            x_min, y_min, x_max, y_max, confidence, class_id = dishComponent.data[0].cpu().numpy()\n",
    "            component = dishImage.crop((x_min, y_min, x_max, y_max))\n",
    "            try:\n",
    "                txt = reader.readtext(np.array(component))\n",
    "                txt = [res[1] for res in txt]\n",
    "            except:\n",
    "                txt = \"Exception Text\"\n",
    "            if int(class_id) == 0:\n",
    "                if len(txt) == 1:\n",
    "                    descs.append(txt[0])\n",
    "                else:\n",
    "                    descs.extend(txt)\n",
    "            elif int(class_id) == 1:\n",
    "                if len(txt) == 1:\n",
    "                    titles.append(txt[0])\n",
    "                else:\n",
    "                    titles.extend(txt)\n",
    "            elif int(class_id) == 2:\n",
    "                if len(txt) == 1:\n",
    "                    prices.append(txt[0])\n",
    "                else:\n",
    "                    prices.extend(txt)\n",
    "    \n",
    "    if descs:\n",
    "        dishdict['Description'] = str(descs)\n",
    "    if titles:\n",
    "        dishdict['Title'] = str(titles)\n",
    "    if prices:\n",
    "        dishdict['Price'] = str(prices)\n",
    "    \n",
    "    dishdf = pd.DataFrame(dishdict, index=[0])\n",
    "    return dishdf\n"
   ]
  },
  {
   "cell_type": "code",
   "execution_count": 15,
   "id": "1cdd166f",
   "metadata": {},
   "outputs": [
    {
     "name": "stderr",
     "output_type": "stream",
     "text": [
      "Neither CUDA nor MPS are available - defaulting to CPU. Note: This module is much faster with a GPU.\n"
     ]
    },
    {
     "name": "stdout",
     "output_type": "stream",
     "text": [
      "['WHITE WINE']\n"
     ]
    },
    {
     "name": "stderr",
     "output_type": "stream",
     "text": [
      "Neither CUDA nor MPS are available - defaulting to CPU. Note: This module is much faster with a GPU.\n",
      "Neither CUDA nor MPS are available - defaulting to CPU. Note: This module is much faster with a GPU.\n",
      "Neither CUDA nor MPS are available - defaulting to CPU. Note: This module is much faster with a GPU.\n",
      "Neither CUDA nor MPS are available - defaulting to CPU. Note: This module is much faster with a GPU.\n",
      "Neither CUDA nor MPS are available - defaulting to CPU. Note: This module is much faster with a GPU.\n",
      "Neither CUDA nor MPS are available - defaulting to CPU. Note: This module is much faster with a GPU.\n",
      "Neither CUDA nor MPS are available - defaulting to CPU. Note: This module is much faster with a GPU.\n",
      "Neither CUDA nor MPS are available - defaulting to CPU. Note: This module is much faster with a GPU.\n",
      "Neither CUDA nor MPS are available - defaulting to CPU. Note: This module is much faster with a GPU.\n",
      "Neither CUDA nor MPS are available - defaulting to CPU. Note: This module is much faster with a GPU.\n",
      "Neither CUDA nor MPS are available - defaulting to CPU. Note: This module is much faster with a GPU.\n",
      "Neither CUDA nor MPS are available - defaulting to CPU. Note: This module is much faster with a GPU.\n",
      "Neither CUDA nor MPS are available - defaulting to CPU. Note: This module is much faster with a GPU.\n"
     ]
    },
    {
     "name": "stdout",
     "output_type": "stream",
     "text": [
      "['RED WINE']\n"
     ]
    },
    {
     "name": "stderr",
     "output_type": "stream",
     "text": [
      "Neither CUDA nor MPS are available - defaulting to CPU. Note: This module is much faster with a GPU.\n",
      "Neither CUDA nor MPS are available - defaulting to CPU. Note: This module is much faster with a GPU.\n",
      "Neither CUDA nor MPS are available - defaulting to CPU. Note: This module is much faster with a GPU.\n",
      "Neither CUDA nor MPS are available - defaulting to CPU. Note: This module is much faster with a GPU.\n",
      "Neither CUDA nor MPS are available - defaulting to CPU. Note: This module is much faster with a GPU.\n",
      "Neither CUDA nor MPS are available - defaulting to CPU. Note: This module is much faster with a GPU.\n",
      "Neither CUDA nor MPS are available - defaulting to CPU. Note: This module is much faster with a GPU.\n",
      "Neither CUDA nor MPS are available - defaulting to CPU. Note: This module is much faster with a GPU.\n",
      "Neither CUDA nor MPS are available - defaulting to CPU. Note: This module is much faster with a GPU.\n"
     ]
    },
    {
     "name": "stdout",
     "output_type": "stream",
     "text": [
      "['ROSE WINE']\n"
     ]
    },
    {
     "name": "stderr",
     "output_type": "stream",
     "text": [
      "Neither CUDA nor MPS are available - defaulting to CPU. Note: This module is much faster with a GPU.\n",
      "Neither CUDA nor MPS are available - defaulting to CPU. Note: This module is much faster with a GPU.\n",
      "Neither CUDA nor MPS are available - defaulting to CPU. Note: This module is much faster with a GPU.\n",
      "Neither CUDA nor MPS are available - defaulting to CPU. Note: This module is much faster with a GPU.\n"
     ]
    },
    {
     "name": "stdout",
     "output_type": "stream",
     "text": [
      "['SWEET & FORTIFED']\n"
     ]
    },
    {
     "name": "stderr",
     "output_type": "stream",
     "text": [
      "Neither CUDA nor MPS are available - defaulting to CPU. Note: This module is much faster with a GPU.\n"
     ]
    }
   ],
   "source": [
    "imagePath = \"./5040895_.pdf_10.jpg\"\n",
    "sectionImages = mainSection(imagePath)\n",
    "menuDF = pd.DataFrame()\n",
    "for singleSection in sectionImages:\n",
    "    filename = \"section.jpg\"\n",
    "    singleSection.save(filename)\n",
    "    dishImagesData = sectionAndDishes(filename)\n",
    "    sectionName = dishImagesData['SectionNames']\n",
    "    dishImagesList = dishImagesData['ImageList']\n",
    "    sectionDF = pd.DataFrame()\n",
    "    for dishImage in dishImagesList:\n",
    "        filename1 = \"d.jpg\"\n",
    "        dishImage.save(filename1)\n",
    "        dishdf = dishesComponent(filename1,section=sectionName)\n",
    "        sectionDF = pd.concat([sectionDF, dishdf])\n",
    "    sectionDF['section'] = sectionName\n",
    "    menuDF = pd.concat([menuDF, sectionDF])\n",
    "    menuDF= menuDF.reset_index(drop=True)\n",
    "        "
   ]
  },
  {
   "cell_type": "code",
   "execution_count": null,
   "id": "451b95ff",
   "metadata": {},
   "outputs": [],
   "source": []
  },
  {
   "cell_type": "code",
   "execution_count": null,
   "id": "01e2e2a2",
   "metadata": {},
   "outputs": [],
   "source": []
  },
  {
   "cell_type": "code",
   "execution_count": null,
   "id": "09df9cd7",
   "metadata": {},
   "outputs": [],
   "source": []
  },
  {
   "cell_type": "code",
   "execution_count": null,
   "id": "1cd36d8e",
   "metadata": {},
   "outputs": [],
   "source": []
  },
  {
   "cell_type": "code",
   "execution_count": 18,
   "id": "c399a77a",
   "metadata": {},
   "outputs": [
    {
     "name": "stderr",
     "output_type": "stream",
     "text": [
      "Neither CUDA nor MPS are available - defaulting to CPU. Note: This module is much faster with a GPU.\n",
      "Neither CUDA nor MPS are available - defaulting to CPU. Note: This module is much faster with a GPU.\n"
     ]
    },
    {
     "name": "stdout",
     "output_type": "stream",
     "text": [
      "['WHITE WINE']\n",
      "[<PIL.Image.Image image mode=RGB size=266x58 at 0x17002BFDEE0>, <PIL.Image.Image image mode=RGB size=1094x51 at 0x17002BFDC70>, <PIL.Image.Image image mode=RGB size=1097x52 at 0x17074709C40>, <PIL.Image.Image image mode=RGB size=1093x52 at 0x17002BFDFA0>, <PIL.Image.Image image mode=RGB size=1095x53 at 0x17008140280>, <PIL.Image.Image image mode=RGB size=1095x52 at 0x1700815DEE0>, <PIL.Image.Image image mode=RGB size=1095x54 at 0x1700815D310>, <PIL.Image.Image image mode=RGB size=1096x49 at 0x1700815DF40>, <PIL.Image.Image image mode=RGB size=1088x57 at 0x1700815DD30>, <PIL.Image.Image image mode=RGB size=1094x50 at 0x1700815DBE0>, <PIL.Image.Image image mode=RGB size=820x47 at 0x1700815D7F0>]\n"
     ]
    },
    {
     "name": "stderr",
     "output_type": "stream",
     "text": [
      "Neither CUDA nor MPS are available - defaulting to CPU. Note: This module is much faster with a GPU.\n",
      "Neither CUDA nor MPS are available - defaulting to CPU. Note: This module is much faster with a GPU.\n",
      "Neither CUDA nor MPS are available - defaulting to CPU. Note: This module is much faster with a GPU.\n",
      "Neither CUDA nor MPS are available - defaulting to CPU. Note: This module is much faster with a GPU.\n",
      "Neither CUDA nor MPS are available - defaulting to CPU. Note: This module is much faster with a GPU.\n",
      "Neither CUDA nor MPS are available - defaulting to CPU. Note: This module is much faster with a GPU.\n",
      "Neither CUDA nor MPS are available - defaulting to CPU. Note: This module is much faster with a GPU.\n",
      "Neither CUDA nor MPS are available - defaulting to CPU. Note: This module is much faster with a GPU.\n",
      "Neither CUDA nor MPS are available - defaulting to CPU. Note: This module is much faster with a GPU.\n",
      "Neither CUDA nor MPS are available - defaulting to CPU. Note: This module is much faster with a GPU.\n",
      "Neither CUDA nor MPS are available - defaulting to CPU. Note: This module is much faster with a GPU.\n",
      "Neither CUDA nor MPS are available - defaulting to CPU. Note: This module is much faster with a GPU.\n"
     ]
    },
    {
     "name": "stdout",
     "output_type": "stream",
     "text": [
      "['RED WINE']\n",
      "[<PIL.Image.Image image mode=RGB size=1096x62 at 0x1706A0675E0>, <PIL.Image.Image image mode=RGB size=1098x65 at 0x1706A207D00>, <PIL.Image.Image image mode=RGB size=1096x60 at 0x1706A067E20>, <PIL.Image.Image image mode=RGB size=1097x60 at 0x17067120280>, <PIL.Image.Image image mode=RGB size=222x58 at 0x1706A067A30>, <PIL.Image.Image image mode=RGB size=1096x62 at 0x1706A067D00>, <PIL.Image.Image image mode=RGB size=1096x62 at 0x17068D72040>, <PIL.Image.Image image mode=RGB size=1098x55 at 0x170746D1D90>]\n"
     ]
    },
    {
     "name": "stderr",
     "output_type": "stream",
     "text": [
      "Neither CUDA nor MPS are available - defaulting to CPU. Note: This module is much faster with a GPU.\n",
      "Neither CUDA nor MPS are available - defaulting to CPU. Note: This module is much faster with a GPU.\n",
      "Neither CUDA nor MPS are available - defaulting to CPU. Note: This module is much faster with a GPU.\n",
      "Neither CUDA nor MPS are available - defaulting to CPU. Note: This module is much faster with a GPU.\n",
      "Neither CUDA nor MPS are available - defaulting to CPU. Note: This module is much faster with a GPU.\n",
      "Neither CUDA nor MPS are available - defaulting to CPU. Note: This module is much faster with a GPU.\n",
      "Neither CUDA nor MPS are available - defaulting to CPU. Note: This module is much faster with a GPU.\n",
      "Neither CUDA nor MPS are available - defaulting to CPU. Note: This module is much faster with a GPU.\n",
      "Neither CUDA nor MPS are available - defaulting to CPU. Note: This module is much faster with a GPU.\n"
     ]
    },
    {
     "name": "stdout",
     "output_type": "stream",
     "text": [
      "['ROSE WINE']\n",
      "[<PIL.Image.Image image mode=RGB size=220x47 at 0x17002638490>, <PIL.Image.Image image mode=RGB size=1091x59 at 0x170026385E0>, <PIL.Image.Image image mode=RGB size=1095x58 at 0x170608A1490>]\n"
     ]
    },
    {
     "name": "stderr",
     "output_type": "stream",
     "text": [
      "Neither CUDA nor MPS are available - defaulting to CPU. Note: This module is much faster with a GPU.\n",
      "Neither CUDA nor MPS are available - defaulting to CPU. Note: This module is much faster with a GPU.\n",
      "Neither CUDA nor MPS are available - defaulting to CPU. Note: This module is much faster with a GPU.\n",
      "Neither CUDA nor MPS are available - defaulting to CPU. Note: This module is much faster with a GPU.\n"
     ]
    },
    {
     "name": "stdout",
     "output_type": "stream",
     "text": [
      "['SWEET & FORTIFED']\n",
      "[<PIL.Image.Image image mode=RGB size=1092x63 at 0x17002D8AA00>, <PIL.Image.Image image mode=RGB size=349x53 at 0x17002C8FDF0>]\n"
     ]
    },
    {
     "name": "stderr",
     "output_type": "stream",
     "text": [
      "Neither CUDA nor MPS are available - defaulting to CPU. Note: This module is much faster with a GPU.\n"
     ]
    },
    {
     "name": "stdout",
     "output_type": "stream",
     "text": [
      "Processed image: 5040895_.pdf_10.jpg\n"
     ]
    },
    {
     "name": "stderr",
     "output_type": "stream",
     "text": [
      "Neither CUDA nor MPS are available - defaulting to CPU. Note: This module is much faster with a GPU.\n",
      "Neither CUDA nor MPS are available - defaulting to CPU. Note: This module is much faster with a GPU.\n"
     ]
    },
    {
     "name": "stdout",
     "output_type": "stream",
     "text": [
      "['SWEET & FORTIFED']\n",
      "[<PIL.Image.Image image mode=RGB size=335x35 at 0x17072B73C10>]\n",
      "Moving to the second image...\n",
      "Processed image: d.jpg\n"
     ]
    },
    {
     "name": "stderr",
     "output_type": "stream",
     "text": [
      "Neither CUDA nor MPS are available - defaulting to CPU. Note: This module is much faster with a GPU.\n",
      "Neither CUDA nor MPS are available - defaulting to CPU. Note: This module is much faster with a GPU.\n"
     ]
    },
    {
     "name": "stdout",
     "output_type": "stream",
     "text": [
      "['SWEET & FORTIFED']\n",
      "[<PIL.Image.Image image mode=RGB size=329x34 at 0x17006AE3370>]\n",
      "Processed image: section.jpg\n"
     ]
    }
   ],
   "source": [
    "import os\n",
    "import pandas as pd\n",
    "from datetime import datetime\n",
    "\n",
    "# Path to the folder containing the images\n",
    "folder_path = r\"./\"\n",
    "\n",
    "# List all files in the folder\n",
    "files = os.listdir(folder_path)\n",
    "\n",
    "# Define the desired column order for the menu dataframe\n",
    "menu_columns = ['section', 'Title', 'Price', 'Description']  # Adjust as per your requirement\n",
    "\n",
    "# Iterate over each file in the folder\n",
    "for idx, file in enumerate(files):\n",
    "    # Check if the file is an image (e.g., JPG, PNG, etc.)\n",
    "    if file.endswith((\".jpg\", \".png\", \".jpeg\")):\n",
    "        # Construct the full path to the image\n",
    "        image_path = os.path.join(folder_path, file)\n",
    "\n",
    "        # Process the image using the existing code\n",
    "        sectionImages = mainSection(image_path)\n",
    "        menuDF = pd.DataFrame(columns=menu_columns)  # Initialize menu dataframe with desired column order\n",
    "\n",
    "        for singleSection in sectionImages:\n",
    "            filename = \"section.jpg\"\n",
    "            singleSection.save(filename)\n",
    "            dishImagesData = sectionAndDishes(filename)\n",
    "            sectionName = dishImagesData['SectionNames']\n",
    "         \n",
    "            dishImagesList = dishImagesData['ImageList']\n",
    "            print(dishImagesList)\n",
    "            sectionDF = pd.DataFrame()\n",
    "\n",
    "            for dishImage in dishImagesList:\n",
    "                filename1 = \"d.jpg\"\n",
    "                dishImage.save(filename1)\n",
    "                dishdf = dishesComponent(filename1, section=sectionName)\n",
    "                sectionDF = pd.concat([sectionDF, dishdf])\n",
    "\n",
    "            sectionDF['section'] = sectionName\n",
    "            menuDF = pd.concat([menuDF, sectionDF])\n",
    "\n",
    "        menuDF = menuDF.reset_index(drop=True)\n",
    "        menuDF = menuDF.drop_duplicates(subset=['Title', 'Price'],keep=\"first\")\n",
    "\n",
    "        # Generate a timestamp\n",
    "        timestamp = datetime.now().strftime(\"%Y%m%d%H%M%S\")\n",
    "\n",
    "        # Construct the output filename with timestamp\n",
    "        output_filename = f\"{os.path.splitext(file)[0]}_{timestamp}.csv\"\n",
    "        output_path = os.path.join(folder_path, output_filename)\n",
    "\n",
    "        # Save the dataframe to a file\n",
    "        menuDF.to_csv(output_path, index=False)\n",
    "\n",
    "        # Print statement when moving to the second image\n",
    "        if idx == 1:\n",
    "            print(\"Moving to the second image...\")\n",
    "\n",
    "        # Print statement after processing each image\n",
    "        print(f\"Processed image: {file}\")\n"
   ]
  },
  {
   "cell_type": "code",
   "execution_count": 19,
   "id": "ef69b9e5",
   "metadata": {},
   "outputs": [
    {
     "data": {
      "image/png": "[encoded data removed]",
      "text/plain": [
       "<Figure size 640x480 with 1 Axes>"
      ]
     },
     "metadata": {},
     "output_type": "display_data"
    }
   ],
   "source": [
    "\n",
    "for item in dishImagesList:\n",
    "    plt.imshow(item)\n",
    "    plt.show()"
   ]
  },
  {
   "cell_type": "code",
   "execution_count": 20,
   "id": "b62c1e62",
   "metadata": {},
   "outputs": [
    {
     "data": {
      "text/html": [
       "<div>\n",
       "<style scoped>\n",
       "    .dataframe tbody tr th:only-of-type {\n",
       "        vertical-align: middle;\n",
       "    }\n",
       "\n",
       "    .dataframe tbody tr th {\n",
       "        vertical-align: top;\n",
       "    }\n",
       "\n",
       "    .dataframe thead th {\n",
       "        text-align: right;\n",
       "    }\n",
       "</style>\n",
       "<table border=\"1\" class=\"dataframe\">\n",
       "  <thead>\n",
       "    <tr style=\"text-align: right;\">\n",
       "      <th></th>\n",
       "      <th>section</th>\n",
       "      <th>Title</th>\n",
       "      <th>Price</th>\n",
       "      <th>Description</th>\n",
       "    </tr>\n",
       "  </thead>\n",
       "  <tbody>\n",
       "    <tr>\n",
       "      <th>0</th>\n",
       "      <td>['SWEET &amp; FORTIFED', [...]]</td>\n",
       "      <td>['SWEET &amp; FORTIFIED']</td>\n",
       "      <td>NaN</td>\n",
       "      <td>NaN</td>\n",
       "    </tr>\n",
       "  </tbody>\n",
       "</table>\n",
       "</div>"
      ],
      "text/plain": [
       "                       section                  Title Price Description\n",
       "0  ['SWEET & FORTIFED', [...]]  ['SWEET & FORTIFIED']   NaN         NaN"
      ]
     },
     "execution_count": 20,
     "metadata": {},
     "output_type": "execute_result"
    }
   ],
   "source": [
    "menuDF.drop_duplicates(subset=['section', 'Title', 'Price','Description'],keep=\"first\")"
   ]
  },
  {
   "cell_type": "code",
   "execution_count": 25,
   "id": "0f076fee",
   "metadata": {},
   "outputs": [
    {
     "data": {
      "text/plain": [
       "nan"
      ]
     },
     "execution_count": 25,
     "metadata": {},
     "output_type": "execute_result"
    }
   ],
   "source": [
    "menuDF[\"Description\"][0]"
   ]
  },
  {
   "cell_type": "code",
   "execution_count": 26,
   "id": "a4e1415a",
   "metadata": {},
   "outputs": [
    {
     "data": {
      "text/plain": [
       "nan"
      ]
     },
     "execution_count": 26,
     "metadata": {},
     "output_type": "execute_result"
    }
   ],
   "source": [
    "menuDF[\"Description\"][0]"
   ]
  },
  {
   "cell_type": "code",
   "execution_count": null,
   "id": "c6e68eaf",
   "metadata": {},
   "outputs": [],
   "source": []
  }
 ],
 "metadata": {
  "environment": {
   "kernel": "python3",
   "name": "tf2-gpu.2-11.m108",
   "type": "gcloud",
   "uri": "gcr.io/deeplearning-platform-release/tf2-gpu.2-11:m108"
  },
  "kernelspec": {
   "display_name": "Python 3 (ipykernel)",
   "language": "python",
   "name": "python3"
  },
  "language_info": {
   "codemirror_mode": {
    "name": "ipython",
    "version": 3
   },
   "file_extension": ".py",
   "mimetype": "text/x-python",
   "name": "python",
   "nbconvert_exporter": "python",
   "pygments_lexer": "ipython3",
   "version": "3.8.1"
  }
 },
 "nbformat": 4,
 "nbformat_minor": 5
}
